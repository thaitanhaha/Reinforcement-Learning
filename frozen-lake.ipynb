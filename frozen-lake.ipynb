{
 "cells": [
  {
   "cell_type": "code",
   "execution_count": 1,
   "id": "9fa069f0",
   "metadata": {
    "_cell_guid": "b1076dfc-b9ad-4769-8c92-a6c4dae69d19",
    "_uuid": "8f2839f25d086af736a60e9eeb907d3b93b6e0e5",
    "execution": {
     "iopub.execute_input": "2025-02-04T15:43:29.473174Z",
     "iopub.status.busy": "2025-02-04T15:43:29.472842Z",
     "iopub.status.idle": "2025-02-04T15:43:29.478458Z",
     "shell.execute_reply": "2025-02-04T15:43:29.477401Z"
    },
    "papermill": {
     "duration": 0.01136,
     "end_time": "2025-02-04T15:43:29.479959",
     "exception": false,
     "start_time": "2025-02-04T15:43:29.468599",
     "status": "completed"
    },
    "tags": []
   },
   "outputs": [],
   "source": [
    "import numpy as np"
   ]
  },
  {
   "cell_type": "code",
   "execution_count": 2,
   "id": "b3b395d7",
   "metadata": {
    "execution": {
     "iopub.execute_input": "2025-02-04T15:43:29.498507Z",
     "iopub.status.busy": "2025-02-04T15:43:29.498099Z",
     "iopub.status.idle": "2025-02-04T15:43:29.507617Z",
     "shell.execute_reply": "2025-02-04T15:43:29.506672Z"
    },
    "papermill": {
     "duration": 0.014611,
     "end_time": "2025-02-04T15:43:29.509220",
     "exception": false,
     "start_time": "2025-02-04T15:43:29.494609",
     "status": "completed"
    },
    "tags": []
   },
   "outputs": [],
   "source": [
    "class FrozenLakeEnv:\n",
    "    def __init__(self, grid):\n",
    "        self.grid = np.array(grid)\n",
    "        self.size = len(grid)\n",
    "        \n",
    "        self.actions = ['up', 'down', 'left', 'right']\n",
    "        self.holes = self.grid_to_holes()\n",
    "        self.goal = self.grid_to_goal()\n",
    "        self.start = (0, 0)\n",
    "        \n",
    "        self.move = {\n",
    "            'up': (-1, 0),\n",
    "            'down': (1, 0),\n",
    "            'left': (0, -1),\n",
    "            'right': (0, 1)\n",
    "        }\n",
    "\n",
    "    def grid_to_holes(self):\n",
    "        coordinates = []\n",
    "        for i in range(self.grid.shape[0]):\n",
    "            for j in range(self.grid.shape[1]):\n",
    "                if self.grid[i, j] == 'H':\n",
    "                    coordinates.append((i, j))\n",
    "        return coordinates\n",
    "\n",
    "    def grid_to_goal(self):\n",
    "        for i in range(self.grid.shape[0]):\n",
    "            for j in range(self.grid.shape[1]):\n",
    "                if self.grid[i, j] == 'G':\n",
    "                    return (i, j)\n",
    "        return None\n",
    "    \n",
    "    def state_to_index(self, state):\n",
    "        return state[0] * self.size + state[1]\n",
    "    \n",
    "    def get_new_position(self, position, action):\n",
    "        move_x, move_y = self.move[action]\n",
    "        new_x, new_y = position[0] + move_x, position[1] + move_y\n",
    "        \n",
    "        if new_x < 0 or new_x >= self.size or new_y < 0 or new_y >= self.size:\n",
    "            return position\n",
    "        return (new_x, new_y)\n",
    "    \n",
    "    def is_hole(self, position):\n",
    "        return position in self.holes\n",
    "    \n",
    "    def is_goal(self, position):\n",
    "        return position == self.goal\n",
    "    \n",
    "    def reset(self):\n",
    "        return self.start"
   ]
  },
  {
   "cell_type": "code",
   "execution_count": 3,
   "id": "65698273",
   "metadata": {
    "execution": {
     "iopub.execute_input": "2025-02-04T15:43:29.515559Z",
     "iopub.status.busy": "2025-02-04T15:43:29.515203Z",
     "iopub.status.idle": "2025-02-04T15:43:29.522486Z",
     "shell.execute_reply": "2025-02-04T15:43:29.521579Z"
    },
    "papermill": {
     "duration": 0.011993,
     "end_time": "2025-02-04T15:43:29.523945",
     "exception": false,
     "start_time": "2025-02-04T15:43:29.511952",
     "status": "completed"
    },
    "tags": []
   },
   "outputs": [],
   "source": [
    "class QLearningAgent:\n",
    "    def __init__(self, environment, epsilon=0.1, learning_rate=0.1, discount_factor=0.99):\n",
    "        self.env = environment\n",
    "        self.epsilon = epsilon\n",
    "        self.learning_rate = learning_rate\n",
    "        self.discount_factor = discount_factor\n",
    "        \n",
    "        self.q_table = np.zeros((self.env.size * self.env.size, len(self.env.actions)))\n",
    "    \n",
    "    def choose_action(self, state):\n",
    "        state_idx = self.env.state_to_index(state)\n",
    "        if np.random.rand() < self.epsilon:\n",
    "            return np.random.choice(self.env.actions)\n",
    "        else:\n",
    "            # return self.env.actions[np.argmax(self.q_table[state_idx])]\n",
    "            max_value = np.max(self.q_table[state_idx])\n",
    "            max_indices = np.where(self.q_table[state_idx] == max_value)[0]\n",
    "            chosen_index = np.random.choice(max_indices)\n",
    "            return self.env.actions[chosen_index]\n",
    "    \n",
    "    def update_q_table(self, state, action, reward, new_state):\n",
    "        state_idx = self.env.state_to_index(state)\n",
    "        new_state_idx = self.env.state_to_index(new_state)\n",
    "        \n",
    "        action_idx = self.env.actions.index(action)\n",
    "        \n",
    "        self.q_table[state_idx, action_idx] += self.learning_rate * (\n",
    "            reward + self.discount_factor * np.max(self.q_table[new_state_idx]) - self.q_table[state_idx, action_idx]\n",
    "        )"
   ]
  },
  {
   "cell_type": "code",
   "execution_count": 4,
   "id": "ba674057",
   "metadata": {
    "execution": {
     "iopub.execute_input": "2025-02-04T15:43:29.530156Z",
     "iopub.status.busy": "2025-02-04T15:43:29.529833Z",
     "iopub.status.idle": "2025-02-04T15:43:29.535933Z",
     "shell.execute_reply": "2025-02-04T15:43:29.535175Z"
    },
    "papermill": {
     "duration": 0.010742,
     "end_time": "2025-02-04T15:43:29.537371",
     "exception": false,
     "start_time": "2025-02-04T15:43:29.526629",
     "status": "completed"
    },
    "tags": []
   },
   "outputs": [],
   "source": [
    "def train(agent, episodes=10000, max_steps=100):\n",
    "    for episode in range(episodes):\n",
    "        state = agent.env.reset()\n",
    "        lose = False\n",
    "        total_reward = 0\n",
    "        \n",
    "        for step in range(max_steps):\n",
    "            action = agent.choose_action(state)\n",
    "            new_state = agent.env.get_new_position(state, action)\n",
    "            while new_state == state:\n",
    "                action = agent.choose_action(state)\n",
    "                new_state = agent.env.get_new_position(state, action)\n",
    "            \n",
    "            if agent.env.is_goal(new_state):\n",
    "                reward = 1\n",
    "                lose = True\n",
    "            elif agent.env.is_hole(new_state):\n",
    "                reward = -1\n",
    "                lose = True\n",
    "            else:\n",
    "                reward = 0\n",
    "            \n",
    "            agent.update_q_table(state, action, reward, new_state)\n",
    "            \n",
    "            state = new_state\n",
    "            total_reward += reward\n",
    "            \n",
    "            if lose: break\n",
    "        \n",
    "        if (episode + 1) % 1000 == 0:\n",
    "            print(f\"Episode {episode + 1}: Total reward = {total_reward}\")\n"
   ]
  },
  {
   "cell_type": "code",
   "execution_count": 5,
   "id": "00ac4318",
   "metadata": {
    "execution": {
     "iopub.execute_input": "2025-02-04T15:43:29.544892Z",
     "iopub.status.busy": "2025-02-04T15:43:29.544582Z",
     "iopub.status.idle": "2025-02-04T15:43:34.652418Z",
     "shell.execute_reply": "2025-02-04T15:43:34.651341Z"
    },
    "papermill": {
     "duration": 5.112386,
     "end_time": "2025-02-04T15:43:34.653913",
     "exception": false,
     "start_time": "2025-02-04T15:43:29.541527",
     "status": "completed"
    },
    "tags": []
   },
   "outputs": [
    {
     "name": "stdout",
     "output_type": "stream",
     "text": [
      "Episode 1000: Total reward = -1\n",
      "Episode 2000: Total reward = 1\n",
      "Episode 3000: Total reward = 1\n",
      "Episode 4000: Total reward = 1\n",
      "Episode 5000: Total reward = 1\n",
      "Episode 6000: Total reward = 1\n",
      "Episode 7000: Total reward = 1\n",
      "Episode 8000: Total reward = -1\n",
      "Episode 9000: Total reward = 1\n",
      "Episode 10000: Total reward = 1\n"
     ]
    }
   ],
   "source": [
    "grid = [\n",
    "    ['S', 'F', 'F', 'F', 'F', 'F', 'F', 'F'],\n",
    "    ['F', 'H', 'H', 'H', 'H', 'F', 'H', 'H'],\n",
    "    ['F', 'H', 'H', 'H', 'F', 'F', 'F', 'H'],\n",
    "    ['F', 'H', 'H', 'H', 'F', 'F', 'F', 'H'],\n",
    "    ['F', 'H', 'H', 'H', 'F', 'F', 'H', 'F'],\n",
    "    ['F', 'H', 'H', 'H', 'F', 'H', 'F', 'F'],\n",
    "    ['F', 'H', 'H', 'H', 'F', 'F', 'F', 'F'],\n",
    "    ['H', 'F', 'F', 'F', 'H', 'F', 'F', 'G']\n",
    "]\n",
    "env = FrozenLakeEnv(grid)\n",
    "agent = QLearningAgent(environment=env, epsilon=0.1, learning_rate=0.1, discount_factor=0.99)\n",
    "train(agent)"
   ]
  },
  {
   "cell_type": "code",
   "execution_count": 6,
   "id": "e1eefb09",
   "metadata": {
    "execution": {
     "iopub.execute_input": "2025-02-04T15:43:34.661796Z",
     "iopub.status.busy": "2025-02-04T15:43:34.661499Z",
     "iopub.status.idle": "2025-02-04T15:43:34.668798Z",
     "shell.execute_reply": "2025-02-04T15:43:34.667511Z"
    },
    "papermill": {
     "duration": 0.012965,
     "end_time": "2025-02-04T15:43:34.670314",
     "exception": false,
     "start_time": "2025-02-04T15:43:34.657349",
     "status": "completed"
    },
    "tags": []
   },
   "outputs": [
    {
     "name": "stdout",
     "output_type": "stream",
     "text": [
      "[[ 0.          0.84294319  0.          0.86005835]\n",
      " [ 0.         -1.          0.85145777  0.86874581]\n",
      " [ 0.         -1.          0.86005835  0.87752102]\n",
      " [ 0.         -1.          0.86874581  0.88638487]\n",
      " [ 0.         -1.          0.87752102  0.89533825]\n",
      " [ 0.          0.90438208  0.88638487  0.88638487]\n",
      " [ 0.         -0.9282102   0.89533825  0.04527402]\n",
      " [ 0.         -0.79410887  0.30294332  0.        ]\n",
      " [ 0.85145777  0.20116837  0.         -0.99990595]\n",
      " [ 0.          0.          0.          0.        ]\n",
      " [ 0.          0.          0.          0.        ]\n",
      " [ 0.          0.          0.          0.        ]\n",
      " [ 0.          0.          0.          0.        ]\n",
      " [ 0.89533825  0.91351725 -1.         -1.        ]\n",
      " [ 0.          0.          0.          0.        ]\n",
      " [ 0.          0.          0.          0.        ]\n",
      " [ 0.52894095  0.          0.         -0.99954322]\n",
      " [ 0.          0.          0.          0.        ]\n",
      " [ 0.          0.          0.          0.        ]\n",
      " [ 0.          0.          0.          0.        ]\n",
      " [-0.74581342  0.77636479 -0.77123208  0.91351725]\n",
      " [ 0.90438208  0.92274469  0.90438207  0.90438207]\n",
      " [-0.87842335  0.50960889  0.91351725 -0.79410887]\n",
      " [ 0.          0.          0.          0.        ]\n",
      " [ 0.          0.          0.         -0.99726107]\n",
      " [ 0.          0.          0.          0.        ]\n",
      " [ 0.          0.          0.          0.        ]\n",
      " [ 0.          0.          0.          0.        ]\n",
      " [ 0.90438207  0.94148015 -1.          0.92274469]\n",
      " [ 0.91351725  0.93206535  0.93206535  0.89533824]\n",
      " [ 0.90438207 -0.56953279  0.17532149 -0.468559  ]\n",
      " [ 0.          0.          0.          0.        ]\n",
      " [ 0.          0.          0.         -0.98802748]\n",
      " [ 0.          0.          0.          0.        ]\n",
      " [ 0.          0.          0.          0.        ]\n",
      " [ 0.          0.          0.          0.        ]\n",
      " [ 0.93206535  0.95099005 -1.          0.93206535]\n",
      " [ 0.5657419  -0.77123208  0.94148015 -0.81469798]\n",
      " [ 0.          0.          0.          0.        ]\n",
      " [ 0.          0.         -0.1         0.        ]\n",
      " [ 0.          0.          0.         -0.97972444]\n",
      " [ 0.          0.          0.          0.        ]\n",
      " [ 0.          0.          0.          0.        ]\n",
      " [ 0.          0.          0.          0.        ]\n",
      " [ 0.94148015  0.96059601 -1.         -1.        ]\n",
      " [ 0.          0.          0.          0.        ]\n",
      " [-0.1         0.39337362 -0.1         0.        ]\n",
      " [ 0.          0.          0.          0.        ]\n",
      " [ 0.         -0.91137062  0.         -0.89058101]\n",
      " [ 0.          0.          0.          0.        ]\n",
      " [ 0.          0.          0.          0.        ]\n",
      " [ 0.          0.          0.          0.        ]\n",
      " [ 0.95099005 -0.99999999 -1.          0.970299  ]\n",
      " [-0.99999999  0.9801      0.96059601  0.960596  ]\n",
      " [ 0.07746763  0.64480833  0.970299    0.19600869]\n",
      " [ 0.          0.          0.56780029  0.        ]\n",
      " [ 0.          0.          0.          0.        ]\n",
      " [ 0.          0.          0.          0.        ]\n",
      " [ 0.          0.          0.          0.        ]\n",
      " [ 0.          0.          0.          0.        ]\n",
      " [ 0.          0.          0.          0.        ]\n",
      " [ 0.970299    0.         -1.          0.99      ]\n",
      " [ 0.960596    0.          0.9801      1.        ]\n",
      " [ 0.          0.          0.          0.        ]]\n"
     ]
    }
   ],
   "source": [
    "print(agent.q_table)"
   ]
  },
  {
   "cell_type": "code",
   "execution_count": 7,
   "id": "a983a26f",
   "metadata": {
    "execution": {
     "iopub.execute_input": "2025-02-04T15:43:34.677959Z",
     "iopub.status.busy": "2025-02-04T15:43:34.677660Z",
     "iopub.status.idle": "2025-02-04T15:43:34.683370Z",
     "shell.execute_reply": "2025-02-04T15:43:34.682486Z"
    },
    "papermill": {
     "duration": 0.01117,
     "end_time": "2025-02-04T15:43:34.684834",
     "exception": false,
     "start_time": "2025-02-04T15:43:34.673664",
     "status": "completed"
    },
    "tags": []
   },
   "outputs": [],
   "source": [
    "def evaluate(agent, episodes=3, max_steps=100):\n",
    "    for episode in range(episodes):\n",
    "        state = agent.env.reset()\n",
    "        lose = False\n",
    "        steps = 0\n",
    "        while not lose:\n",
    "            state_idx = agent.env.state_to_index(state)\n",
    "            action = agent.env.actions[np.argmax(agent.q_table[state_idx])]\n",
    "            state = agent.env.get_new_position(state, action)\n",
    "            print(f\"Step {steps}: {state} -> Action: {action}\")\n",
    "            if agent.env.is_goal(state):\n",
    "                print(\"Goal reached!\\n\")\n",
    "                lose = True\n",
    "            elif agent.env.is_hole(state):\n",
    "                print(\"Fell into a hole!\\n\")\n",
    "                lose = True\n",
    "            steps += 1\n",
    "            if steps == max_steps: \n",
    "                print(\"Something wrong!\\n\")\n",
    "                lose = True"
   ]
  },
  {
   "cell_type": "code",
   "execution_count": 8,
   "id": "5c944543",
   "metadata": {
    "execution": {
     "iopub.execute_input": "2025-02-04T15:43:34.692447Z",
     "iopub.status.busy": "2025-02-04T15:43:34.691950Z",
     "iopub.status.idle": "2025-02-04T15:43:34.705310Z",
     "shell.execute_reply": "2025-02-04T15:43:34.704064Z"
    },
    "papermill": {
     "duration": 0.018816,
     "end_time": "2025-02-04T15:43:34.706972",
     "exception": false,
     "start_time": "2025-02-04T15:43:34.688156",
     "status": "completed"
    },
    "tags": []
   },
   "outputs": [
    {
     "name": "stdout",
     "output_type": "stream",
     "text": [
      "Step 0: (0, 1) -> Action: right\n",
      "Step 1: (0, 2) -> Action: right\n",
      "Step 2: (0, 3) -> Action: right\n",
      "Step 3: (0, 4) -> Action: right\n",
      "Step 4: (0, 5) -> Action: right\n",
      "Step 5: (1, 5) -> Action: down\n",
      "Step 6: (2, 5) -> Action: down\n",
      "Step 7: (3, 5) -> Action: down\n",
      "Step 8: (3, 4) -> Action: left\n",
      "Step 9: (4, 4) -> Action: down\n",
      "Step 10: (5, 4) -> Action: down\n",
      "Step 11: (6, 4) -> Action: down\n",
      "Step 12: (6, 5) -> Action: right\n",
      "Step 13: (7, 5) -> Action: down\n",
      "Step 14: (7, 6) -> Action: right\n",
      "Step 15: (7, 7) -> Action: right\n",
      "Goal reached!\n",
      "\n",
      "Step 0: (0, 1) -> Action: right\n",
      "Step 1: (0, 2) -> Action: right\n",
      "Step 2: (0, 3) -> Action: right\n",
      "Step 3: (0, 4) -> Action: right\n",
      "Step 4: (0, 5) -> Action: right\n",
      "Step 5: (1, 5) -> Action: down\n",
      "Step 6: (2, 5) -> Action: down\n",
      "Step 7: (3, 5) -> Action: down\n",
      "Step 8: (3, 4) -> Action: left\n",
      "Step 9: (4, 4) -> Action: down\n",
      "Step 10: (5, 4) -> Action: down\n",
      "Step 11: (6, 4) -> Action: down\n",
      "Step 12: (6, 5) -> Action: right\n",
      "Step 13: (7, 5) -> Action: down\n",
      "Step 14: (7, 6) -> Action: right\n",
      "Step 15: (7, 7) -> Action: right\n",
      "Goal reached!\n",
      "\n",
      "Step 0: (0, 1) -> Action: right\n",
      "Step 1: (0, 2) -> Action: right\n",
      "Step 2: (0, 3) -> Action: right\n",
      "Step 3: (0, 4) -> Action: right\n",
      "Step 4: (0, 5) -> Action: right\n",
      "Step 5: (1, 5) -> Action: down\n",
      "Step 6: (2, 5) -> Action: down\n",
      "Step 7: (3, 5) -> Action: down\n",
      "Step 8: (3, 4) -> Action: left\n",
      "Step 9: (4, 4) -> Action: down\n",
      "Step 10: (5, 4) -> Action: down\n",
      "Step 11: (6, 4) -> Action: down\n",
      "Step 12: (6, 5) -> Action: right\n",
      "Step 13: (7, 5) -> Action: down\n",
      "Step 14: (7, 6) -> Action: right\n",
      "Step 15: (7, 7) -> Action: right\n",
      "Goal reached!\n",
      "\n"
     ]
    }
   ],
   "source": [
    "evaluate(agent)"
   ]
  }
 ],
 "metadata": {
  "kaggle": {
   "accelerator": "none",
   "dataSources": [],
   "dockerImageVersionId": 30839,
   "isGpuEnabled": false,
   "isInternetEnabled": true,
   "language": "python",
   "sourceType": "notebook"
  },
  "kernelspec": {
   "display_name": "Python 3",
   "language": "python",
   "name": "python3"
  },
  "language_info": {
   "codemirror_mode": {
    "name": "ipython",
    "version": 3
   },
   "file_extension": ".py",
   "mimetype": "text/x-python",
   "name": "python",
   "nbconvert_exporter": "python",
   "pygments_lexer": "ipython3",
   "version": "3.10.12"
  },
  "papermill": {
   "default_parameters": {},
   "duration": 8.340217,
   "end_time": "2025-02-04T15:43:35.129689",
   "environment_variables": {},
   "exception": null,
   "input_path": "__notebook__.ipynb",
   "output_path": "__notebook__.ipynb",
   "parameters": {},
   "start_time": "2025-02-04T15:43:26.789472",
   "version": "2.6.0"
  }
 },
 "nbformat": 4,
 "nbformat_minor": 5
}
